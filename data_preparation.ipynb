{
 "cells": [
  {
   "cell_type": "code",
   "execution_count": 6,
   "id": "fbc17258",
   "metadata": {},
   "outputs": [
    {
     "name": "stdout",
     "output_type": "stream",
     "text": [
      "Columns: ['InvoiceNo', 'StockCode', 'Description', 'Quantity', 'InvoiceDate', 'UnitPrice', 'CustomerID', 'Country']\n",
      "Shape: (10999, 8)\n",
      "Missing Values:\n",
      " InvoiceNo         0\n",
      "StockCode         0\n",
      "Description      42\n",
      "Quantity          0\n",
      "InvoiceDate       0\n",
      "UnitPrice         0\n",
      "CustomerID     3043\n",
      "Country           0\n",
      "dtype: int64\n",
      "  InvoiceNo StockCode                          Description  Quantity  \\\n",
      "0    536365    85123A   WHITE HANGING HEART T-LIGHT HOLDER         6   \n",
      "1    536365     71053                  WHITE METAL LANTERN         6   \n",
      "2    536365    84406B       CREAM CUPID HEARTS COAT HANGER         8   \n",
      "3    536365    84029G  KNITTED UNION FLAG HOT WATER BOTTLE         6   \n",
      "4    536365    84029E       RED WOOLLY HOTTIE WHITE HEART.         6   \n",
      "\n",
      "          InvoiceDate  UnitPrice  CustomerID         Country  \n",
      "0 2010-12-01 08:26:00       2.55     17850.0  United Kingdom  \n",
      "1 2010-12-01 08:26:00       3.39     17850.0  United Kingdom  \n",
      "2 2010-12-01 08:26:00       2.75     17850.0  United Kingdom  \n",
      "3 2010-12-01 08:26:00       3.39     17850.0  United Kingdom  \n",
      "4 2010-12-01 08:26:00       3.39     17850.0  United Kingdom  \n"
     ]
    }
   ],
   "source": [
    "import pandas as pd\n",
    "\n",
    "# Load the Excel file\n",
    "df = pd.read_excel(r\"C:\\Users\\toksh\\OneDrive\\Desktop\\Flipkart_analysis.xlsx\")\n",
    "\n",
    "# Display basic info\n",
    "print(\"Columns:\", df.columns.tolist())\n",
    "print(\"Shape:\", df.shape)  # Should show (11000, 8)\n",
    "print(\"Missing Values:\\n\", df.isnull().sum())  # Check for nulls\n",
    "print(df.head())  # View first 5 rows"
   ]
  },
  {
   "cell_type": "code",
   "execution_count": 7,
   "id": "5f0e56c0",
   "metadata": {},
   "outputs": [
    {
     "name": "stdout",
     "output_type": "stream",
     "text": [
      "Cleaned Shape: (10644, 8)\n",
      "Missing Values after Cleaning:\n",
      " InvoiceNo      0\n",
      "StockCode      0\n",
      "Description    0\n",
      "Quantity       0\n",
      "InvoiceDate    0\n",
      "UnitPrice      0\n",
      "CustomerID     0\n",
      "Country        0\n",
      "dtype: int64\n"
     ]
    }
   ],
   "source": [
    "# Handle missing values\n",
    "df['CustomerID'].fillna('Unknown', inplace=True)  # Replace null CustomerIDs\n",
    "df['Description'].fillna('No Description', inplace=True)  # Replace null descriptions\n",
    "\n",
    "# Remove invalid data\n",
    "df = df[df['Quantity'] > 0]  # Remove negative or zero quantities\n",
    "df = df[df['UnitPrice'] > 0]  # Remove zero or negative prices\n",
    "\n",
    "# Convert data types\n",
    "df['InvoiceDate'] = pd.to_datetime(df['InvoiceDate'])  # Ensure date format\n",
    "df['UnitPrice'] = pd.to_numeric(df['UnitPrice'], errors='coerce')  # Ensure numeric\n",
    "\n",
    "# Remove duplicates\n",
    "df.drop_duplicates(inplace=True)\n",
    "\n",
    "# Verify cleaning\n",
    "print(\"Cleaned Shape:\", df.shape)\n",
    "print(\"Missing Values after Cleaning:\\n\", df.isnull().sum())"
   ]
  },
  {
   "cell_type": "code",
   "execution_count": 8,
   "id": "bb82653c",
   "metadata": {},
   "outputs": [
    {
     "name": "stdout",
     "output_type": "stream",
     "text": [
      "   InvoiceNo StockCode                        Description  Quantity  \\\n",
      "0     536371     22086    PAPER CHAIN KIT 50'S CHRISTMAS         80   \n",
      "1     536374     21258         VICTORIAN SEWING BOX LARGE        32   \n",
      "2     536376     22114  HOT WATER BOTTLE TEA AND SYMPATHY        48   \n",
      "3     536376     21733   RED HANGING HEART T-LIGHT HOLDER        64   \n",
      "4     536384     22470              HEART OF WICKER LARGE        40   \n",
      "\n",
      "           InvoiceDate  UnitPrice CustomerID         Country  \n",
      "0  2010-12-01 09:00:00       2.55    13748.0  United Kingdom  \n",
      "1  2010-12-01 09:09:00      10.95    15100.0  United Kingdom  \n",
      "2  2010-12-01 09:32:00       3.45    15291.0  United Kingdom  \n",
      "3  2010-12-01 09:32:00       2.55    15291.0  United Kingdom  \n",
      "4  2010-12-01 09:53:00       2.55    18074.0  United Kingdom  \n"
     ]
    }
   ],
   "source": [
    "import sqlite3\n",
    "\n",
    "# Connect to SQLite database\n",
    "conn = sqlite3.connect('flipkart.db')\n",
    "\n",
    "# Save cleaned data to SQLite\n",
    "df.to_sql('sales', conn, if_exists='replace', index=False)\n",
    "\n",
    "# Test query\n",
    "query = \"SELECT * FROM sales WHERE UnitPrice * Quantity > 100 LIMIT 5\"\n",
    "result = pd.read_sql_query(query, conn)\n",
    "print(result)"
   ]
  },
  {
   "cell_type": "code",
   "execution_count": null,
   "id": "2be26d79",
   "metadata": {},
   "outputs": [],
   "source": []
  }
 ],
 "metadata": {
  "kernelspec": {
   "display_name": "Python 3 (ipykernel)",
   "language": "python",
   "name": "python3"
  },
  "language_info": {
   "codemirror_mode": {
    "name": "ipython",
    "version": 3
   },
   "file_extension": ".py",
   "mimetype": "text/x-python",
   "name": "python",
   "nbconvert_exporter": "python",
   "pygments_lexer": "ipython3",
   "version": "3.11.5"
  }
 },
 "nbformat": 4,
 "nbformat_minor": 5
}
